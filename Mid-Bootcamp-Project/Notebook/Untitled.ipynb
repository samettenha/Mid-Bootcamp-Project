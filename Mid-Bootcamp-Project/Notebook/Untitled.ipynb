{
 "cells": [
  {
   "cell_type": "code",
   "execution_count": 1,
   "id": "1c29c404",
   "metadata": {},
   "outputs": [],
   "source": [
    "import geopandas as gpd\n",
    "from shapely.geometry import Point, Polygon,LineString\n",
    "import pandas as pd\n",
    "import numpy as np\n",
    "import pyproj\n",
    "from pyproj import CRS"
   ]
  },
  {
   "cell_type": "code",
   "execution_count": 2,
   "id": "93d9558f",
   "metadata": {
    "scrolled": true
   },
   "outputs": [
    {
     "data": {
      "text/html": [
       "<div>\n",
       "<style scoped>\n",
       "    .dataframe tbody tr th:only-of-type {\n",
       "        vertical-align: middle;\n",
       "    }\n",
       "\n",
       "    .dataframe tbody tr th {\n",
       "        vertical-align: top;\n",
       "    }\n",
       "\n",
       "    .dataframe thead th {\n",
       "        text-align: right;\n",
       "    }\n",
       "</style>\n",
       "<table border=\"1\" class=\"dataframe\">\n",
       "  <thead>\n",
       "    <tr style=\"text-align: right;\">\n",
       "      <th></th>\n",
       "      <th>Name</th>\n",
       "      <th>Description</th>\n",
       "      <th>geometry</th>\n",
       "    </tr>\n",
       "  </thead>\n",
       "  <tbody>\n",
       "    <tr>\n",
       "      <th>0</th>\n",
       "      <td>A1</td>\n",
       "      <td></td>\n",
       "      <td>LINESTRING Z (6.82906 50.24845 0.00000, 6.8294...</td>\n",
       "    </tr>\n",
       "    <tr>\n",
       "      <th>1</th>\n",
       "      <td>A2</td>\n",
       "      <td></td>\n",
       "      <td>LINESTRING Z (9.80446 52.43088 0.00000, 9.8055...</td>\n",
       "    </tr>\n",
       "    <tr>\n",
       "      <th>2</th>\n",
       "      <td>A3</td>\n",
       "      <td></td>\n",
       "      <td>LINESTRING Z (11.18518 49.47010 0.00000, 11.18...</td>\n",
       "    </tr>\n",
       "    <tr>\n",
       "      <th>3</th>\n",
       "      <td>A3</td>\n",
       "      <td></td>\n",
       "      <td>LINESTRING Z (7.25608 50.70241 0.00000, 7.2587...</td>\n",
       "    </tr>\n",
       "    <tr>\n",
       "      <th>4</th>\n",
       "      <td>A31</td>\n",
       "      <td></td>\n",
       "      <td>LINESTRING Z (6.92829 51.56252 0.00000, 6.9284...</td>\n",
       "    </tr>\n",
       "    <tr>\n",
       "      <th>...</th>\n",
       "      <td>...</td>\n",
       "      <td>...</td>\n",
       "      <td>...</td>\n",
       "    </tr>\n",
       "    <tr>\n",
       "      <th>133</th>\n",
       "      <td>A33</td>\n",
       "      <td></td>\n",
       "      <td>LINESTRING Z (8.55291 51.94193 0.00000, 8.5548...</td>\n",
       "    </tr>\n",
       "    <tr>\n",
       "      <th>134</th>\n",
       "      <td>A445</td>\n",
       "      <td></td>\n",
       "      <td>LINESTRING Z (8.35547 51.35991 0.00000, 8.3523...</td>\n",
       "    </tr>\n",
       "    <tr>\n",
       "      <th>135</th>\n",
       "      <td>A40</td>\n",
       "      <td></td>\n",
       "      <td>LINESTRING Z (6.59438 51.43530 0.00000, 6.5927...</td>\n",
       "    </tr>\n",
       "    <tr>\n",
       "      <th>136</th>\n",
       "      <td>A3</td>\n",
       "      <td></td>\n",
       "      <td>LINESTRING Z (10.94114 49.56810 0.00000, 10.94...</td>\n",
       "    </tr>\n",
       "    <tr>\n",
       "      <th>137</th>\n",
       "      <td>A9</td>\n",
       "      <td></td>\n",
       "      <td>LINESTRING Z (11.43370 49.64358 0.00000, 11.43...</td>\n",
       "    </tr>\n",
       "  </tbody>\n",
       "</table>\n",
       "<p>138 rows × 3 columns</p>\n",
       "</div>"
      ],
      "text/plain": [
       "     Name Description                                           geometry\n",
       "0      A1              LINESTRING Z (6.82906 50.24845 0.00000, 6.8294...\n",
       "1      A2              LINESTRING Z (9.80446 52.43088 0.00000, 9.8055...\n",
       "2      A3              LINESTRING Z (11.18518 49.47010 0.00000, 11.18...\n",
       "3      A3              LINESTRING Z (7.25608 50.70241 0.00000, 7.2587...\n",
       "4     A31              LINESTRING Z (6.92829 51.56252 0.00000, 6.9284...\n",
       "..    ...         ...                                                ...\n",
       "133   A33              LINESTRING Z (8.55291 51.94193 0.00000, 8.5548...\n",
       "134  A445              LINESTRING Z (8.35547 51.35991 0.00000, 8.3523...\n",
       "135   A40              LINESTRING Z (6.59438 51.43530 0.00000, 6.5927...\n",
       "136    A3              LINESTRING Z (10.94114 49.56810 0.00000, 10.94...\n",
       "137    A9              LINESTRING Z (11.43370 49.64358 0.00000, 11.43...\n",
       "\n",
       "[138 rows x 3 columns]"
      ]
     },
     "execution_count": 2,
     "metadata": {},
     "output_type": "execute_result"
    }
   ],
   "source": [
    "gpd.io.file.fiona.drvsupport.supported_drivers['KML'] = 'rw'\n",
    "my_map = gpd.read_file('Autobahn_ohne_Tempolimit.kml', driver='KML')\n",
    "my_map"
   ]
  },
  {
   "cell_type": "code",
   "execution_count": 3,
   "id": "35b839eb",
   "metadata": {},
   "outputs": [
    {
     "data": {
      "text/plain": [
       "geopandas.geodataframe.GeoDataFrame"
      ]
     },
     "execution_count": 3,
     "metadata": {},
     "output_type": "execute_result"
    }
   ],
   "source": [
    "type(my_map)"
   ]
  },
  {
   "cell_type": "code",
   "execution_count": 4,
   "id": "2bb3bb5e",
   "metadata": {
    "scrolled": false
   },
   "outputs": [
    {
     "data": {
      "text/html": [
       "<div>\n",
       "<style scoped>\n",
       "    .dataframe tbody tr th:only-of-type {\n",
       "        vertical-align: middle;\n",
       "    }\n",
       "\n",
       "    .dataframe tbody tr th {\n",
       "        vertical-align: top;\n",
       "    }\n",
       "\n",
       "    .dataframe thead th {\n",
       "        text-align: right;\n",
       "    }\n",
       "</style>\n",
       "<table border=\"1\" class=\"dataframe\">\n",
       "  <thead>\n",
       "    <tr style=\"text-align: right;\">\n",
       "      <th></th>\n",
       "      <th>Name</th>\n",
       "      <th>Description</th>\n",
       "      <th>geometry</th>\n",
       "    </tr>\n",
       "  </thead>\n",
       "  <tbody>\n",
       "    <tr>\n",
       "      <th>36</th>\n",
       "      <td>A92</td>\n",
       "      <td></td>\n",
       "      <td>LINESTRING Z (12.94628 48.82595 0.00000, 12.94...</td>\n",
       "    </tr>\n",
       "    <tr>\n",
       "      <th>37</th>\n",
       "      <td>A92</td>\n",
       "      <td></td>\n",
       "      <td>LINESTRING Z (12.06940 48.52696 0.00000, 12.06...</td>\n",
       "    </tr>\n",
       "  </tbody>\n",
       "</table>\n",
       "</div>"
      ],
      "text/plain": [
       "   Name Description                                           geometry\n",
       "36  A92              LINESTRING Z (12.94628 48.82595 0.00000, 12.94...\n",
       "37  A92              LINESTRING Z (12.06940 48.52696 0.00000, 12.06..."
      ]
     },
     "execution_count": 4,
     "metadata": {},
     "output_type": "execute_result"
    }
   ],
   "source": [
    "# my_map = my_map.drop(my_map.index[1:])\n",
    "# my_map\n",
    "\n",
    "\n",
    "my_map = my_map.loc[my_map['Name'] == 'A92']\n",
    "#df.loc[df['column_name'].isin(some_values)]\n",
    "my_map"
   ]
  },
  {
   "cell_type": "code",
   "execution_count": 5,
   "id": "e0d98cab",
   "metadata": {
    "scrolled": true
   },
   "outputs": [
    {
     "data": {
      "text/html": [
       "<div>\n",
       "<style scoped>\n",
       "    .dataframe tbody tr th:only-of-type {\n",
       "        vertical-align: middle;\n",
       "    }\n",
       "\n",
       "    .dataframe tbody tr th {\n",
       "        vertical-align: top;\n",
       "    }\n",
       "\n",
       "    .dataframe thead th {\n",
       "        text-align: right;\n",
       "    }\n",
       "</style>\n",
       "<table border=\"1\" class=\"dataframe\">\n",
       "  <thead>\n",
       "    <tr style=\"text-align: right;\">\n",
       "      <th></th>\n",
       "      <th>Name</th>\n",
       "      <th>Description</th>\n",
       "      <th>geometry</th>\n",
       "    </tr>\n",
       "  </thead>\n",
       "  <tbody>\n",
       "    <tr>\n",
       "      <th>36</th>\n",
       "      <td>A92</td>\n",
       "      <td></td>\n",
       "      <td>LINESTRING Z (12.94628 48.82595 0.00000, 12.94...</td>\n",
       "    </tr>\n",
       "  </tbody>\n",
       "</table>\n",
       "</div>"
      ],
      "text/plain": [
       "   Name Description                                           geometry\n",
       "36  A92              LINESTRING Z (12.94628 48.82595 0.00000, 12.94..."
      ]
     },
     "execution_count": 5,
     "metadata": {},
     "output_type": "execute_result"
    }
   ],
   "source": [
    "my_map = my_map.loc[[36]]\n",
    "my_map"
   ]
  },
  {
   "cell_type": "code",
   "execution_count": 6,
   "id": "2dc447b0",
   "metadata": {},
   "outputs": [
    {
     "data": {
      "text/html": [
       "<div>\n",
       "<style scoped>\n",
       "    .dataframe tbody tr th:only-of-type {\n",
       "        vertical-align: middle;\n",
       "    }\n",
       "\n",
       "    .dataframe tbody tr th {\n",
       "        vertical-align: top;\n",
       "    }\n",
       "\n",
       "    .dataframe thead th {\n",
       "        text-align: right;\n",
       "    }\n",
       "</style>\n",
       "<table border=\"1\" class=\"dataframe\">\n",
       "  <thead>\n",
       "    <tr style=\"text-align: right;\">\n",
       "      <th></th>\n",
       "      <th>Name</th>\n",
       "      <th>Description</th>\n",
       "      <th>geometry</th>\n",
       "    </tr>\n",
       "  </thead>\n",
       "  <tbody>\n",
       "    <tr>\n",
       "      <th>0</th>\n",
       "      <td>A92</td>\n",
       "      <td></td>\n",
       "      <td>LINESTRING Z (12.94628 48.82595 0.00000, 12.94...</td>\n",
       "    </tr>\n",
       "  </tbody>\n",
       "</table>\n",
       "</div>"
      ],
      "text/plain": [
       "  Name Description                                           geometry\n",
       "0  A92              LINESTRING Z (12.94628 48.82595 0.00000, 12.94..."
      ]
     },
     "execution_count": 6,
     "metadata": {},
     "output_type": "execute_result"
    }
   ],
   "source": [
    "my_map.reset_index(drop=True,inplace=True)\n",
    "my_map"
   ]
  },
  {
   "cell_type": "code",
   "execution_count": 7,
   "id": "ece3be94",
   "metadata": {
    "scrolled": true
   },
   "outputs": [
    {
     "name": "stdout",
     "output_type": "stream",
     "text": [
      "0    LINESTRING Z (12.94628 48.82595 0.00000, 12.94263 48.82155 0.00000, 12.94197 48.82077 0.00000, 12.94137 48.82013 0.00000, 12.94068 48.81941 0.00000, 12.93974 48.81850 0.00000, 12.93888 48.81772 0.00000, 12.93757 48.81660 0.00000, 12.93577 48.81519 0.00000, 12.93461 48.81437 0.00000, 12.93041 48.81156 0.00000, 12.92911 48.81064 0.00000, 12.92735 48.80935 0.00000, 12.92588 48.80819 0.00000, 12.92324 48.80604 0.00000, 12.91960 48.80302 0.00000, 12.91780 48.80159 0.00000, 12.91706 48.80109 0.00000, 12.91616 48.80052 0.00000, 12.91550 48.80015 0.00000, 12.91492 48.79985 0.00000, 12.91382 48.79935 0.00000, 12.91269 48.79891 0.00000, 12.91183 48.79860 0.00000, 12.91063 48.79823 0.00000, 12.90993 48.79804 0.00000, 12.90854 48.79770 0.00000, 12.90725 48.79747 0.00000, 12.90635 48.79735 0.00000, 12.90543 48.79727 0.00000, 12.90400 48.79718 0.00000, 12.90187 48.79718 0.00000, 12.90065 48.79723 0.00000, 12.89959 48.79732 0.00000, 12.89785 48.79752 0.00000, 12.89742 48.79760 0.00000, 12.89500 48.79815 0.00000, 12.89321 48.79863 0.00000, 12.88906 48.79980 0.00000, 12.88751 48.80021 0.00000, 12.88615 48.80053 0.00000, 12.88387 48.80100 0.00000, 12.88321 48.80112 0.00000, 12.88138 48.80142 0.00000, 12.87968 48.80165 0.00000, 12.87719 48.80195 0.00000, 12.87274 48.80221 0.00000, 12.86997 48.80222 0.00000, 12.86898 48.80220 0.00000, 12.86780 48.80217 0.00000, 12.86661 48.80211 0.00000, 12.86511 48.80201 0.00000, 12.86420 48.80193 0.00000, 12.86260 48.80177 0.00000, 12.86138 48.80161 0.00000, 12.85978 48.80138 0.00000, 12.85874 48.80121 0.00000, 12.85730 48.80095 0.00000, 12.85594 48.80067 0.00000, 12.85445 48.80034 0.00000, 12.85330 48.80006 0.00000, 12.85218 48.79976 0.00000, 12.85115 48.79946 0.00000, 12.85021 48.79917 0.00000, 12.84825 48.79852 0.00000, 12.84737 48.79820 0.00000, 12.84612 48.79773 0.00000, 12.84502 48.79727 0.00000, 12.84271 48.79623 0.00000, 12.84097 48.79537 0.00000, 12.83857 48.79401 0.00000, 12.83730 48.79324 0.00000, 12.83487 48.79159 0.00000, 12.83353 48.79049 0.00000, 12.83176 48.78908 0.00000, 12.82968 48.78753 0.00000, 12.82824 48.78652 0.00000, 12.82726 48.78589 0.00000, 12.82590 48.78509 0.00000, 12.82531 48.78477 0.00000, 12.82419 48.78421 0.00000, 12.82255 48.78346 0.00000, 12.82084 48.78278 0.00000, 12.81997 48.78246 0.00000, 12.81886 48.78209 0.00000, 12.81826 48.78190 0.00000, 12.81722 48.78160 0.00000, 12.81577 48.78123 0.00000, 12.81310 48.78062 0.00000, 12.80973 48.77999 0.00000, 12.80053 48.77830 0.00000, 12.79877 48.77794 0.00000, 12.79662 48.77743 0.00000, 12.79581 48.77722 0.00000, 12.79431 48.77678 0.00000, 12.79283 48.77630 0.00000, 12.79159 48.77585 0.00000, 12.79062 48.77547 0.00000, 12.78947 48.77501 0.00000, 12.78839 48.77450 0.00000, 12.78756 48.77410 0.00000, 12.78573 48.77314 0.00000, 12.78444 48.77236 0.00000, 12.78367 48.77187 0.00000, 12.78248 48.77107 0.00000, 12.78069 48.76970 0.00000, 12.77909 48.76832 0.00000, 12.76680 48.75726 0.00000, 12.76482 48.75554 0.00000, 12.76403 48.75489 0.00000, 12.76301 48.75410 0.00000, 12.76213 48.75347 0.00000, 12.76068 48.75254 0.00000, 12.75817 48.75115 0.00000, 12.75669 48.75045 0.00000, 12.75577 48.75004 0.00000, 12.75433 48.74948 0.00000, 12.75220 48.74872 0.00000, 12.74570 48.74672 0.00000, 12.74497 48.74647 0.00000, 12.74396 48.74610 0.00000, 12.74334 48.74586 0.00000, 12.74275 48.74561 0.00000, 12.74181 48.74518 0.00000, 12.74057 48.74456 0.00000, 12.73956 48.74397 0.00000, 12.73845 48.74325 0.00000, 12.73733 48.74241 0.00000, 12.73627 48.74149 0.00000, 12.73585 48.74110 0.00000, 12.73518 48.74041 0.00000, 12.73476 48.73990 0.00000, 12.73405 48.73897 0.00000, 12.73375 48.73855 0.00000, 12.73349 48.73813 0.00000, 12.73301 48.73729 0.00000, 12.73224 48.73557 0.00000, 12.73094 48.73219 0.00000, 12.73019 48.73054 0.00000, 12.72987 48.72990 0.00000, 12.72951 48.72929 0.00000, 12.72858 48.72791 0.00000, 12.72731 48.72644 0.00000, 12.72649 48.72561 0.00000, 12.72576 48.72493 0.00000, 12.72495 48.72421 0.00000, 12.72430 48.72367 0.00000, 12.72211 48.72210 0.00000, 12.72091 48.72132 0.00000, 12.72012 48.72084 0.00000, 12.71865 48.71999 0.00000, 12.71681 48.71897 0.00000, 12.71473 48.71791 0.00000, 12.71308 48.71708 0.00000, 12.70224 48.71185 0.00000, 12.69879 48.71005 0.00000, 12.69614 48.70861 0.00000, 12.69399 48.70736 0.00000, 12.69260 48.70653 0.00000, 12.69054 48.70526 0.00000, 12.68852 48.70396 0.00000, 12.68424 48.70111 0.00000, 12.68280 48.70024 0.00000, 12.68092 48.69918 0.00000, 12.68002 48.69870 0.00000, 12.67894 48.69814 0.00000, 12.67691 48.69715 0.00000, 12.67412 48.69591 0.00000, 12.67250 48.69524 0.00000, 12.67047 48.69448 0.00000, 12.66890 48.69391 0.00000, 12.66723 48.69335 0.00000, 12.66512 48.69270 0.00000, 12.66184 48.69179 0.00000, 12.65921 48.69118 0.00000, 12.65801 48.69092 0.00000, 12.65638 48.69060 0.00000, 12.65498 48.69030 0.00000, 12.65327 48.68992 0.00000, 12.65187 48.68959 0.00000, 12.65093 48.68935 0.00000, 12.64824 48.68859 0.00000, 12.64504 48.68766 0.00000, 12.64236 48.68697 0.00000, 12.64017 48.68646 0.00000, 12.63835 48.68608 0.00000, 12.63599 48.68565 0.00000, 12.63414 48.68536 0.00000, 12.63294 48.68519 0.00000, 12.62921 48.68473 0.00000, 12.62639 48.68448 0.00000, 12.62293 48.68413 0.00000, 12.61965 48.68375 0.00000, 12.61660 48.68330 0.00000, 12.61264 48.68268 0.00000, 12.60863 48.68199 0.00000, 12.59115 48.67855 0.00000, 12.58146 48.67668 0.00000, 12.56997 48.67440 0.00000, 12.56261 48.67282 0.00000, 12.56085 48.67241 0.00000, 12.55224 48.67054 0.00000, 12.54541 48.66902 0.00000, 12.54185 48.66804 0.00000, 12.53709 48.66654 0.00000, 12.53298 48.66510 0.00000, 12.53015 48.66416 0.00000, 12.52628 48.66305 0.00000, 12.52337 48.66237 0.00000, 12.51920 48.66153 0.00000, 12.51570 48.66095 0.00000, 12.51470 48.66082 0.00000, 12.51308 48.66061 0.00000, 12.51186 48.66048 0.00000, 12.50990 48.66028 0.00000, 12.50810 48.66014 0.00000, 12.50635 48.66003 0.00000, 12.50435 48.65992 0.00000, 12.49338 48.65947 0.00000, 12.48944 48.65929 0.00000, 12.48716 48.65914 0.00000, 12.48480 48.65894 0.00000, 12.48100 48.65851 0.00000, 12.47883 48.65822 0.00000, 12.47476 48.65762 0.00000, 12.47174 48.65703 0.00000, 12.46830 48.65626 0.00000, 12.46611 48.65570 0.00000, 12.46371 48.65502 0.00000, 12.46121 48.65428 0.00000, 12.45833 48.65334 0.00000, 12.45582 48.65249 0.00000, 12.45324 48.65159 0.00000, 12.45068 48.65074 0.00000, 12.45025 48.65059 0.00000, 12.44932 48.65030 0.00000, 12.44493 48.64898 0.00000, 12.44034 48.64781 0.00000, 12.43782 48.64719 0.00000, 12.43604 48.64679 0.00000, 12.43397 48.64634 0.00000, 12.43125 48.64580 0.00000, 12.42891 48.64537 0.00000, 12.42499 48.64473 0.00000, 12.42106 48.64418 0.00000, 12.41170 48.64305 0.00000, 12.40608 48.64229 0.00000, 12.40369 48.64193 0.00000, 12.40091 48.64149 0.00000, 12.39910 48.64122 0.00000, 12.39582 48.64067 0.00000, 12.39198 48.64000 0.00000, 12.38846 48.63935 0.00000, 12.38347 48.63836 0.00000, 12.37998 48.63769 0.00000, 12.37524 48.63689 0.00000, 12.37414 48.63672 0.00000, 12.37054 48.63627 0.00000, 12.36716 48.63587 0.00000, 12.36559 48.63573 0.00000, 12.36459 48.63564 0.00000, 12.36144 48.63540 0.00000, 12.35702 48.63511 0.00000, 12.35482 48.63495 0.00000, 12.35154 48.63462 0.00000, 12.34855 48.63424 0.00000, 12.34499 48.63371 0.00000, 12.34151 48.63309 0.00000, 12.33894 48.63257 0.00000, 12.33474 48.63164 0.00000, 12.33183 48.63094 0.00000, 12.32850 48.63007 0.00000, 12.32600 48.62938 0.00000, 12.32407 48.62881 0.00000, 12.32054 48.62773 0.00000, 12.31846 48.62704 0.00000, 12.31264 48.62505 0.00000, 12.31057 48.62435 0.00000, 12.30476 48.62246 0.00000, 12.30249 48.62174 0.00000, 12.29799 48.62037 0.00000, 12.29325 48.61898 0.00000, 12.28952 48.61793 0.00000, 12.28616 48.61701 0.00000, 12.28129 48.61572 0.00000, 12.27508 48.61416 0.00000, 12.26957 48.61286 0.00000, 12.26767 48.61243 0.00000, 12.26241 48.61127 0.00000, 12.25638 48.61001 0.00000, 12.25400 48.60949 0.00000, 12.25144 48.60887 0.00000, 12.25018 48.60854 0.00000, 12.24766 48.60783 0.00000, 12.24516 48.60707 0.00000, 12.24271 48.60624 0.00000, 12.24142 48.60578 0.00000, 12.23901 48.60486 0.00000, 12.23777 48.60437 0.00000, 12.23648 48.60383 0.00000, 12.23479 48.60309 0.00000, 12.23335 48.60242 0.00000, 12.23163 48.60158 0.00000, 12.22961 48.60054 0.00000, 12.22693 48.59907 0.00000, 12.22593 48.59848 0.00000)\n",
      "Name: geometry, dtype: geometry\n"
     ]
    }
   ],
   "source": [
    "pd.options.display.max_colwidth = 10000\n",
    "print(my_map.geometry)"
   ]
  },
  {
   "cell_type": "code",
   "execution_count": 8,
   "id": "1b4e3b95",
   "metadata": {},
   "outputs": [
    {
     "data": {
      "text/plain": [
       "geopandas.geodataframe.GeoDataFrame"
      ]
     },
     "execution_count": 8,
     "metadata": {},
     "output_type": "execute_result"
    }
   ],
   "source": [
    "type(my_map)\n",
    "gpd.geodataframe.GeoDataFrame"
   ]
  },
  {
   "cell_type": "code",
   "execution_count": 9,
   "id": "a70c635c",
   "metadata": {},
   "outputs": [
    {
     "data": {
      "text/html": [
       "<div>\n",
       "<style scoped>\n",
       "    .dataframe tbody tr th:only-of-type {\n",
       "        vertical-align: middle;\n",
       "    }\n",
       "\n",
       "    .dataframe tbody tr th {\n",
       "        vertical-align: top;\n",
       "    }\n",
       "\n",
       "    .dataframe thead th {\n",
       "        text-align: right;\n",
       "    }\n",
       "</style>\n",
       "<table border=\"1\" class=\"dataframe\">\n",
       "  <thead>\n",
       "    <tr style=\"text-align: right;\">\n",
       "      <th></th>\n",
       "      <th>Unnamed: 0</th>\n",
       "      <th>OBJECTID</th>\n",
       "      <th>latitude</th>\n",
       "      <th>longitude</th>\n",
       "    </tr>\n",
       "  </thead>\n",
       "  <tbody>\n",
       "    <tr>\n",
       "      <th>0</th>\n",
       "      <td>0</td>\n",
       "      <td>1</td>\n",
       "      <td>53.082133</td>\n",
       "      <td>12.521519</td>\n",
       "    </tr>\n",
       "    <tr>\n",
       "      <th>1</th>\n",
       "      <td>1</td>\n",
       "      <td>2</td>\n",
       "      <td>52.367678</td>\n",
       "      <td>13.614609</td>\n",
       "    </tr>\n",
       "    <tr>\n",
       "      <th>2</th>\n",
       "      <td>2</td>\n",
       "      <td>3</td>\n",
       "      <td>52.349021</td>\n",
       "      <td>14.069661</td>\n",
       "    </tr>\n",
       "    <tr>\n",
       "      <th>3</th>\n",
       "      <td>3</td>\n",
       "      <td>4</td>\n",
       "      <td>52.179830</td>\n",
       "      <td>12.757075</td>\n",
       "    </tr>\n",
       "    <tr>\n",
       "      <th>4</th>\n",
       "      <td>4</td>\n",
       "      <td>5</td>\n",
       "      <td>51.695730</td>\n",
       "      <td>13.249132</td>\n",
       "    </tr>\n",
       "    <tr>\n",
       "      <th>...</th>\n",
       "      <td>...</td>\n",
       "      <td>...</td>\n",
       "      <td>...</td>\n",
       "      <td>...</td>\n",
       "    </tr>\n",
       "    <tr>\n",
       "      <th>237989</th>\n",
       "      <td>237989</td>\n",
       "      <td>237990</td>\n",
       "      <td>50.444042</td>\n",
       "      <td>7.474374</td>\n",
       "    </tr>\n",
       "    <tr>\n",
       "      <th>237990</th>\n",
       "      <td>237990</td>\n",
       "      <td>237991</td>\n",
       "      <td>49.513484</td>\n",
       "      <td>8.153857</td>\n",
       "    </tr>\n",
       "    <tr>\n",
       "      <th>237991</th>\n",
       "      <td>237991</td>\n",
       "      <td>237992</td>\n",
       "      <td>50.319264</td>\n",
       "      <td>7.599165</td>\n",
       "    </tr>\n",
       "    <tr>\n",
       "      <th>237992</th>\n",
       "      <td>237992</td>\n",
       "      <td>237993</td>\n",
       "      <td>49.489181</td>\n",
       "      <td>8.366092</td>\n",
       "    </tr>\n",
       "    <tr>\n",
       "      <th>237993</th>\n",
       "      <td>237993</td>\n",
       "      <td>237994</td>\n",
       "      <td>49.412845</td>\n",
       "      <td>7.567753</td>\n",
       "    </tr>\n",
       "  </tbody>\n",
       "</table>\n",
       "<p>237994 rows × 4 columns</p>\n",
       "</div>"
      ],
      "text/plain": [
       "        Unnamed: 0  OBJECTID   latitude  longitude\n",
       "0                0         1  53.082133  12.521519\n",
       "1                1         2  52.367678  13.614609\n",
       "2                2         3  52.349021  14.069661\n",
       "3                3         4  52.179830  12.757075\n",
       "4                4         5  51.695730  13.249132\n",
       "...            ...       ...        ...        ...\n",
       "237989      237989    237990  50.444042   7.474374\n",
       "237990      237990    237991  49.513484   8.153857\n",
       "237991      237991    237992  50.319264   7.599165\n",
       "237992      237992    237993  49.489181   8.366092\n",
       "237993      237993    237994  49.412845   7.567753\n",
       "\n",
       "[237994 rows x 4 columns]"
      ]
     },
     "execution_count": 9,
     "metadata": {},
     "output_type": "execute_result"
    }
   ],
   "source": [
    "locations = pd.read_csv('lat_long_dataset.csv')\n",
    "locations"
   ]
  },
  {
   "cell_type": "code",
   "execution_count": 10,
   "id": "040b3447",
   "metadata": {},
   "outputs": [
    {
     "data": {
      "text/html": [
       "<div>\n",
       "<style scoped>\n",
       "    .dataframe tbody tr th:only-of-type {\n",
       "        vertical-align: middle;\n",
       "    }\n",
       "\n",
       "    .dataframe tbody tr th {\n",
       "        vertical-align: top;\n",
       "    }\n",
       "\n",
       "    .dataframe thead th {\n",
       "        text-align: right;\n",
       "    }\n",
       "</style>\n",
       "<table border=\"1\" class=\"dataframe\">\n",
       "  <thead>\n",
       "    <tr style=\"text-align: right;\">\n",
       "      <th></th>\n",
       "      <th>Unnamed: 0</th>\n",
       "      <th>OBJECTID</th>\n",
       "      <th>latitude</th>\n",
       "      <th>longitude</th>\n",
       "    </tr>\n",
       "  </thead>\n",
       "  <tbody>\n",
       "    <tr>\n",
       "      <th>29500</th>\n",
       "      <td>29500</td>\n",
       "      <td>29501</td>\n",
       "      <td>48.801851</td>\n",
       "      <td>12.876709</td>\n",
       "    </tr>\n",
       "  </tbody>\n",
       "</table>\n",
       "</div>"
      ],
      "text/plain": [
       "       Unnamed: 0  OBJECTID   latitude  longitude\n",
       "29500       29500     29501  48.801851  12.876709"
      ]
     },
     "execution_count": 10,
     "metadata": {},
     "output_type": "execute_result"
    }
   ],
   "source": [
    "locations=locations.iloc[[29500]]\n",
    "locations"
   ]
  },
  {
   "cell_type": "code",
   "execution_count": 11,
   "id": "55e9ee4f",
   "metadata": {},
   "outputs": [],
   "source": [
    "# locations['latitude']=locations['latitude'].round(decimals = 5)\n",
    "# locations['longitude']=locations['longitude'].round(decimals = 5)\n",
    "# locations"
   ]
  },
  {
   "cell_type": "code",
   "execution_count": 12,
   "id": "1f6235c9",
   "metadata": {},
   "outputs": [
    {
     "data": {
      "text/html": [
       "<div>\n",
       "<style scoped>\n",
       "    .dataframe tbody tr th:only-of-type {\n",
       "        vertical-align: middle;\n",
       "    }\n",
       "\n",
       "    .dataframe tbody tr th {\n",
       "        vertical-align: top;\n",
       "    }\n",
       "\n",
       "    .dataframe thead th {\n",
       "        text-align: right;\n",
       "    }\n",
       "</style>\n",
       "<table border=\"1\" class=\"dataframe\">\n",
       "  <thead>\n",
       "    <tr style=\"text-align: right;\">\n",
       "      <th></th>\n",
       "      <th>OBJECTID</th>\n",
       "      <th>latitude</th>\n",
       "      <th>longitude</th>\n",
       "    </tr>\n",
       "  </thead>\n",
       "  <tbody>\n",
       "    <tr>\n",
       "      <th>29500</th>\n",
       "      <td>29501</td>\n",
       "      <td>48.801851</td>\n",
       "      <td>12.876709</td>\n",
       "    </tr>\n",
       "  </tbody>\n",
       "</table>\n",
       "</div>"
      ],
      "text/plain": [
       "       OBJECTID   latitude  longitude\n",
       "29500     29501  48.801851  12.876709"
      ]
     },
     "execution_count": 12,
     "metadata": {},
     "output_type": "execute_result"
    }
   ],
   "source": [
    "locations=locations.drop(['Unnamed: 0'],axis =1)\n",
    "locations"
   ]
  },
  {
   "cell_type": "code",
   "execution_count": 13,
   "id": "dee3e71b",
   "metadata": {},
   "outputs": [],
   "source": [
    "geometric_points = []\n",
    "for xy in zip(locations['longitude'], locations['latitude']):\n",
    "   geometric_points.append(Point(xy))"
   ]
  },
  {
   "cell_type": "code",
   "execution_count": 14,
   "id": "69bb2c6d",
   "metadata": {
    "scrolled": true
   },
   "outputs": [
    {
     "name": "stderr",
     "output_type": "stream",
     "text": [
      "/Users/samettenha/opt/anaconda3/lib/python3.9/site-packages/pyproj/crs/crs.py:131: FutureWarning: '+init=<authority>:<code>' syntax is deprecated. '<authority>:<code>' is the preferred initialization method. When making the change, be mindful of axis order changes: https://pyproj4.github.io/pyproj/stable/gotchas.html#axis-order-changes-in-proj-6\n",
      "  in_crs_string = _prepare_from_proj_string(in_crs_string)\n"
     ]
    },
    {
     "data": {
      "text/html": [
       "<div>\n",
       "<style scoped>\n",
       "    .dataframe tbody tr th:only-of-type {\n",
       "        vertical-align: middle;\n",
       "    }\n",
       "\n",
       "    .dataframe tbody tr th {\n",
       "        vertical-align: top;\n",
       "    }\n",
       "\n",
       "    .dataframe thead th {\n",
       "        text-align: right;\n",
       "    }\n",
       "</style>\n",
       "<table border=\"1\" class=\"dataframe\">\n",
       "  <thead>\n",
       "    <tr style=\"text-align: right;\">\n",
       "      <th></th>\n",
       "      <th>OBJECTID</th>\n",
       "      <th>latitude</th>\n",
       "      <th>longitude</th>\n",
       "      <th>geometry</th>\n",
       "    </tr>\n",
       "  </thead>\n",
       "  <tbody>\n",
       "    <tr>\n",
       "      <th>29500</th>\n",
       "      <td>29501</td>\n",
       "      <td>48.801851</td>\n",
       "      <td>12.876709</td>\n",
       "      <td>POINT (12.87671 48.80185)</td>\n",
       "    </tr>\n",
       "  </tbody>\n",
       "</table>\n",
       "</div>"
      ],
      "text/plain": [
       "       OBJECTID   latitude  longitude                   geometry\n",
       "29500     29501  48.801851  12.876709  POINT (12.87671 48.80185)"
      ]
     },
     "execution_count": 14,
     "metadata": {},
     "output_type": "execute_result"
    }
   ],
   "source": [
    "geo_locations = gpd.GeoDataFrame(locations,\n",
    "                                 crs = {'init': 'epsg:4326'},\n",
    "                                 geometry = geometric_points)\n",
    "geo_locations\n",
    "\n",
    "\n",
    "# geo_locations = gpd.GeoDataFrame(locations,\n",
    "#                                  crs = 'EPSG:4326',   \n",
    "#                                  geometry = geometric_points)\n",
    "# geo_locations"
   ]
  },
  {
   "cell_type": "code",
   "execution_count": 15,
   "id": "8c7ed556",
   "metadata": {},
   "outputs": [],
   "source": [
    "geo_locations['in_my_map'] = np.nan\n",
    "geo_locations.head()"
   ]
  },
  {
   "cell_type": "code",
   "execution_count": 16,
   "id": "6f9117a8",
   "metadata": {
    "scrolled": true
   },
   "outputs": [
    {
     "data": {
      "text/html": [
       "<div>\n",
       "<style scoped>\n",
       "    .dataframe tbody tr th:only-of-type {\n",
       "        vertical-align: middle;\n",
       "    }\n",
       "\n",
       "    .dataframe tbody tr th {\n",
       "        vertical-align: top;\n",
       "    }\n",
       "\n",
       "    .dataframe thead th {\n",
       "        text-align: right;\n",
       "    }\n",
       "</style>\n",
       "<table border=\"1\" class=\"dataframe\">\n",
       "  <thead>\n",
       "    <tr style=\"text-align: right;\">\n",
       "      <th></th>\n",
       "      <th>OBJECTID</th>\n",
       "      <th>latitude</th>\n",
       "      <th>longitude</th>\n",
       "      <th>geometry</th>\n",
       "    </tr>\n",
       "  </thead>\n",
       "  <tbody>\n",
       "    <tr>\n",
       "      <th>0</th>\n",
       "      <td>29501</td>\n",
       "      <td>48.801851</td>\n",
       "      <td>12.876709</td>\n",
       "      <td>POINT (12.87671 48.80185)</td>\n",
       "    </tr>\n",
       "  </tbody>\n",
       "</table>\n",
       "</div>"
      ],
      "text/plain": [
       "   OBJECTID   latitude  longitude                   geometry\n",
       "0     29501  48.801851  12.876709  POINT (12.87671 48.80185)"
      ]
     },
     "execution_count": 16,
     "metadata": {},
     "output_type": "execute_result"
    }
   ],
   "source": [
    "geo_locations.reset_index(drop=True,inplace=True)\n",
    "geo_locations.head()"
   ]
  },
  {
   "cell_type": "code",
   "execution_count": 17,
   "id": "a55dd0cc",
   "metadata": {
    "scrolled": true
   },
   "outputs": [],
   "source": [
    "# geo_locations['in_my_map'].loc[0] = my_map.geometry.geom_almost_equals(geo_locations.geometry.loc[0], decimal=3).values\n",
    "# geo_locations.head(5)"
   ]
  },
  {
   "cell_type": "code",
   "execution_count": 18,
   "id": "d83fc87b",
   "metadata": {},
   "outputs": [
    {
     "ename": "KeyError",
     "evalue": "'in_my_map'",
     "output_type": "error",
     "traceback": [
      "\u001b[0;31m---------------------------------------------------------------------------\u001b[0m",
      "\u001b[0;31mKeyError\u001b[0m                                  Traceback (most recent call last)",
      "\u001b[0;32m~/opt/anaconda3/lib/python3.9/site-packages/pandas/core/indexes/base.py\u001b[0m in \u001b[0;36mget_loc\u001b[0;34m(self, key, method, tolerance)\u001b[0m\n\u001b[1;32m   3360\u001b[0m             \u001b[0;32mtry\u001b[0m\u001b[0;34m:\u001b[0m\u001b[0;34m\u001b[0m\u001b[0;34m\u001b[0m\u001b[0m\n\u001b[0;32m-> 3361\u001b[0;31m                 \u001b[0;32mreturn\u001b[0m \u001b[0mself\u001b[0m\u001b[0;34m.\u001b[0m\u001b[0m_engine\u001b[0m\u001b[0;34m.\u001b[0m\u001b[0mget_loc\u001b[0m\u001b[0;34m(\u001b[0m\u001b[0mcasted_key\u001b[0m\u001b[0;34m)\u001b[0m\u001b[0;34m\u001b[0m\u001b[0;34m\u001b[0m\u001b[0m\n\u001b[0m\u001b[1;32m   3362\u001b[0m             \u001b[0;32mexcept\u001b[0m \u001b[0mKeyError\u001b[0m \u001b[0;32mas\u001b[0m \u001b[0merr\u001b[0m\u001b[0;34m:\u001b[0m\u001b[0;34m\u001b[0m\u001b[0;34m\u001b[0m\u001b[0m\n",
      "\u001b[0;32m~/opt/anaconda3/lib/python3.9/site-packages/pandas/_libs/index.pyx\u001b[0m in \u001b[0;36mpandas._libs.index.IndexEngine.get_loc\u001b[0;34m()\u001b[0m\n",
      "\u001b[0;32m~/opt/anaconda3/lib/python3.9/site-packages/pandas/_libs/index.pyx\u001b[0m in \u001b[0;36mpandas._libs.index.IndexEngine.get_loc\u001b[0;34m()\u001b[0m\n",
      "\u001b[0;32mpandas/_libs/hashtable_class_helper.pxi\u001b[0m in \u001b[0;36mpandas._libs.hashtable.PyObjectHashTable.get_item\u001b[0;34m()\u001b[0m\n",
      "\u001b[0;32mpandas/_libs/hashtable_class_helper.pxi\u001b[0m in \u001b[0;36mpandas._libs.hashtable.PyObjectHashTable.get_item\u001b[0;34m()\u001b[0m\n",
      "\u001b[0;31mKeyError\u001b[0m: 'in_my_map'",
      "\nThe above exception was the direct cause of the following exception:\n",
      "\u001b[0;31mKeyError\u001b[0m                                  Traceback (most recent call last)",
      "\u001b[0;32m/var/folders/fr/nfjf749x4vj6gv0n2whzg1n00000gn/T/ipykernel_25198/2916602011.py\u001b[0m in \u001b[0;36m<module>\u001b[0;34m\u001b[0m\n\u001b[1;32m      9\u001b[0m     \u001b[0mpoint\u001b[0m \u001b[0;34m=\u001b[0m \u001b[0mgeo_locations\u001b[0m\u001b[0;34m.\u001b[0m\u001b[0mgeometry\u001b[0m\u001b[0;34m.\u001b[0m\u001b[0mloc\u001b[0m\u001b[0;34m[\u001b[0m\u001b[0mi\u001b[0m\u001b[0;34m]\u001b[0m\u001b[0;34m\u001b[0m\u001b[0;34m\u001b[0m\u001b[0m\n\u001b[1;32m     10\u001b[0m     \u001b[0mcheck\u001b[0m \u001b[0;34m=\u001b[0m \u001b[0mmy_map\u001b[0m\u001b[0;34m.\u001b[0m\u001b[0mgeometry\u001b[0m\u001b[0;34m.\u001b[0m\u001b[0mgeom_almost_equals\u001b[0m\u001b[0;34m(\u001b[0m\u001b[0mpoint\u001b[0m\u001b[0;34m,\u001b[0m \u001b[0mdecimal\u001b[0m\u001b[0;34m=\u001b[0m\u001b[0;36m3\u001b[0m\u001b[0;34m,\u001b[0m \u001b[0malign\u001b[0m\u001b[0;34m=\u001b[0m\u001b[0;32mTrue\u001b[0m\u001b[0;34m)\u001b[0m\u001b[0;34m.\u001b[0m\u001b[0mvalues\u001b[0m\u001b[0;34m\u001b[0m\u001b[0;34m\u001b[0m\u001b[0m\n\u001b[0;32m---> 11\u001b[0;31m     \u001b[0mgeo_locations\u001b[0m\u001b[0;34m[\u001b[0m\u001b[0;34m'in_my_map'\u001b[0m\u001b[0;34m]\u001b[0m\u001b[0;34m.\u001b[0m\u001b[0mloc\u001b[0m\u001b[0;34m[\u001b[0m\u001b[0mi\u001b[0m\u001b[0;34m]\u001b[0m \u001b[0;34m=\u001b[0m \u001b[0mcheck\u001b[0m\u001b[0;34m\u001b[0m\u001b[0;34m\u001b[0m\u001b[0m\n\u001b[0m\u001b[1;32m     12\u001b[0m \u001b[0mgeo_locations\u001b[0m\u001b[0;34m.\u001b[0m\u001b[0mhead\u001b[0m\u001b[0;34m(\u001b[0m\u001b[0;36m5\u001b[0m\u001b[0;34m)\u001b[0m\u001b[0;34m\u001b[0m\u001b[0;34m\u001b[0m\u001b[0m\n\u001b[1;32m     13\u001b[0m \u001b[0;34m\u001b[0m\u001b[0m\n",
      "\u001b[0;32m~/opt/anaconda3/lib/python3.9/site-packages/geopandas/geodataframe.py\u001b[0m in \u001b[0;36m__getitem__\u001b[0;34m(self, key)\u001b[0m\n\u001b[1;32m   1325\u001b[0m         \u001b[0mGeoDataFrame\u001b[0m\u001b[0;34m.\u001b[0m\u001b[0;34m\u001b[0m\u001b[0;34m\u001b[0m\u001b[0m\n\u001b[1;32m   1326\u001b[0m         \"\"\"\n\u001b[0;32m-> 1327\u001b[0;31m         \u001b[0mresult\u001b[0m \u001b[0;34m=\u001b[0m \u001b[0msuper\u001b[0m\u001b[0;34m(\u001b[0m\u001b[0;34m)\u001b[0m\u001b[0;34m.\u001b[0m\u001b[0m__getitem__\u001b[0m\u001b[0;34m(\u001b[0m\u001b[0mkey\u001b[0m\u001b[0;34m)\u001b[0m\u001b[0;34m\u001b[0m\u001b[0;34m\u001b[0m\u001b[0m\n\u001b[0m\u001b[1;32m   1328\u001b[0m         \u001b[0mgeo_col\u001b[0m \u001b[0;34m=\u001b[0m \u001b[0mself\u001b[0m\u001b[0;34m.\u001b[0m\u001b[0m_geometry_column_name\u001b[0m\u001b[0;34m\u001b[0m\u001b[0;34m\u001b[0m\u001b[0m\n\u001b[1;32m   1329\u001b[0m         \u001b[0;32mif\u001b[0m \u001b[0misinstance\u001b[0m\u001b[0;34m(\u001b[0m\u001b[0mresult\u001b[0m\u001b[0;34m,\u001b[0m \u001b[0mSeries\u001b[0m\u001b[0;34m)\u001b[0m \u001b[0;32mand\u001b[0m \u001b[0misinstance\u001b[0m\u001b[0;34m(\u001b[0m\u001b[0mresult\u001b[0m\u001b[0;34m.\u001b[0m\u001b[0mdtype\u001b[0m\u001b[0;34m,\u001b[0m \u001b[0mGeometryDtype\u001b[0m\u001b[0;34m)\u001b[0m\u001b[0;34m:\u001b[0m\u001b[0;34m\u001b[0m\u001b[0;34m\u001b[0m\u001b[0m\n",
      "\u001b[0;32m~/opt/anaconda3/lib/python3.9/site-packages/pandas/core/frame.py\u001b[0m in \u001b[0;36m__getitem__\u001b[0;34m(self, key)\u001b[0m\n\u001b[1;32m   3456\u001b[0m             \u001b[0;32mif\u001b[0m \u001b[0mself\u001b[0m\u001b[0;34m.\u001b[0m\u001b[0mcolumns\u001b[0m\u001b[0;34m.\u001b[0m\u001b[0mnlevels\u001b[0m \u001b[0;34m>\u001b[0m \u001b[0;36m1\u001b[0m\u001b[0;34m:\u001b[0m\u001b[0;34m\u001b[0m\u001b[0;34m\u001b[0m\u001b[0m\n\u001b[1;32m   3457\u001b[0m                 \u001b[0;32mreturn\u001b[0m \u001b[0mself\u001b[0m\u001b[0;34m.\u001b[0m\u001b[0m_getitem_multilevel\u001b[0m\u001b[0;34m(\u001b[0m\u001b[0mkey\u001b[0m\u001b[0;34m)\u001b[0m\u001b[0;34m\u001b[0m\u001b[0;34m\u001b[0m\u001b[0m\n\u001b[0;32m-> 3458\u001b[0;31m             \u001b[0mindexer\u001b[0m \u001b[0;34m=\u001b[0m \u001b[0mself\u001b[0m\u001b[0;34m.\u001b[0m\u001b[0mcolumns\u001b[0m\u001b[0;34m.\u001b[0m\u001b[0mget_loc\u001b[0m\u001b[0;34m(\u001b[0m\u001b[0mkey\u001b[0m\u001b[0;34m)\u001b[0m\u001b[0;34m\u001b[0m\u001b[0;34m\u001b[0m\u001b[0m\n\u001b[0m\u001b[1;32m   3459\u001b[0m             \u001b[0;32mif\u001b[0m \u001b[0mis_integer\u001b[0m\u001b[0;34m(\u001b[0m\u001b[0mindexer\u001b[0m\u001b[0;34m)\u001b[0m\u001b[0;34m:\u001b[0m\u001b[0;34m\u001b[0m\u001b[0;34m\u001b[0m\u001b[0m\n\u001b[1;32m   3460\u001b[0m                 \u001b[0mindexer\u001b[0m \u001b[0;34m=\u001b[0m \u001b[0;34m[\u001b[0m\u001b[0mindexer\u001b[0m\u001b[0;34m]\u001b[0m\u001b[0;34m\u001b[0m\u001b[0;34m\u001b[0m\u001b[0m\n",
      "\u001b[0;32m~/opt/anaconda3/lib/python3.9/site-packages/pandas/core/indexes/base.py\u001b[0m in \u001b[0;36mget_loc\u001b[0;34m(self, key, method, tolerance)\u001b[0m\n\u001b[1;32m   3361\u001b[0m                 \u001b[0;32mreturn\u001b[0m \u001b[0mself\u001b[0m\u001b[0;34m.\u001b[0m\u001b[0m_engine\u001b[0m\u001b[0;34m.\u001b[0m\u001b[0mget_loc\u001b[0m\u001b[0;34m(\u001b[0m\u001b[0mcasted_key\u001b[0m\u001b[0;34m)\u001b[0m\u001b[0;34m\u001b[0m\u001b[0;34m\u001b[0m\u001b[0m\n\u001b[1;32m   3362\u001b[0m             \u001b[0;32mexcept\u001b[0m \u001b[0mKeyError\u001b[0m \u001b[0;32mas\u001b[0m \u001b[0merr\u001b[0m\u001b[0;34m:\u001b[0m\u001b[0;34m\u001b[0m\u001b[0;34m\u001b[0m\u001b[0m\n\u001b[0;32m-> 3363\u001b[0;31m                 \u001b[0;32mraise\u001b[0m \u001b[0mKeyError\u001b[0m\u001b[0;34m(\u001b[0m\u001b[0mkey\u001b[0m\u001b[0;34m)\u001b[0m \u001b[0;32mfrom\u001b[0m \u001b[0merr\u001b[0m\u001b[0;34m\u001b[0m\u001b[0;34m\u001b[0m\u001b[0m\n\u001b[0m\u001b[1;32m   3364\u001b[0m \u001b[0;34m\u001b[0m\u001b[0m\n\u001b[1;32m   3365\u001b[0m         \u001b[0;32mif\u001b[0m \u001b[0mis_scalar\u001b[0m\u001b[0;34m(\u001b[0m\u001b[0mkey\u001b[0m\u001b[0;34m)\u001b[0m \u001b[0;32mand\u001b[0m \u001b[0misna\u001b[0m\u001b[0;34m(\u001b[0m\u001b[0mkey\u001b[0m\u001b[0;34m)\u001b[0m \u001b[0;32mand\u001b[0m \u001b[0;32mnot\u001b[0m \u001b[0mself\u001b[0m\u001b[0;34m.\u001b[0m\u001b[0mhasnans\u001b[0m\u001b[0;34m:\u001b[0m\u001b[0;34m\u001b[0m\u001b[0;34m\u001b[0m\u001b[0m\n",
      "\u001b[0;31mKeyError\u001b[0m: 'in_my_map'"
     ]
    }
   ],
   "source": [
    "# for i in range(0, len(geo_locations)):\n",
    "#     point = geo_locations.geometry.loc[i]\n",
    "#     check = my_map.contains(point).values\n",
    "#     geo_locations['in_my_map'].loc[i] = check\n",
    "# geo_locations.head(5)\n",
    "\n",
    "\n",
    "for i in range(0, len(geo_locations)):\n",
    "    point = geo_locations.geometry.loc[i]\n",
    "    check = my_map.geometry.geom_almost_equals(point, decimal=3, align=True).values\n",
    "    geo_locations['in_my_map'].loc[i] = check\n",
    "geo_locations.head(5)\n",
    "\n",
    "\n",
    "        \n",
    "# for i in range(0, len(geo_locations)):\n",
    "#     point = geo_locations.geometry.loc[i]\n",
    "#     check = my_map.geometry.within(point, align=False).values\n",
    "#     geo_locations['in_my_map'].loc[i] = check\n",
    "# geo_locations.head(5)"
   ]
  },
  {
   "cell_type": "code",
   "execution_count": null,
   "id": "b2f715cb",
   "metadata": {
    "scrolled": true
   },
   "outputs": [],
   "source": [
    "geo_locations.in_my_map.value_counts()"
   ]
  },
  {
   "cell_type": "code",
   "execution_count": null,
   "id": "2253c624",
   "metadata": {},
   "outputs": [],
   "source": []
  },
  {
   "cell_type": "code",
   "execution_count": null,
   "id": "84afc07b",
   "metadata": {},
   "outputs": [],
   "source": []
  },
  {
   "cell_type": "code",
   "execution_count": null,
   "id": "666f5248",
   "metadata": {},
   "outputs": [],
   "source": []
  }
 ],
 "metadata": {
  "kernelspec": {
   "display_name": "Python 3 (ipykernel)",
   "language": "python",
   "name": "python3"
  },
  "language_info": {
   "codemirror_mode": {
    "name": "ipython",
    "version": 3
   },
   "file_extension": ".py",
   "mimetype": "text/x-python",
   "name": "python",
   "nbconvert_exporter": "python",
   "pygments_lexer": "ipython3",
   "version": "3.9.7"
  }
 },
 "nbformat": 4,
 "nbformat_minor": 5
}
